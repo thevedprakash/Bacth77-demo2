{
 "cells": [
  {
   "cell_type": "code",
   "execution_count": null,
   "id": "bc8fcaa5",
   "metadata": {},
   "outputs": [],
   "source": [
    "# https://www.kaggle.com/datasets/contactprad/bike-share-daily-data"
   ]
  },
  {
   "cell_type": "code",
   "execution_count": null,
   "id": "0cb0c4d7",
   "metadata": {},
   "outputs": [],
   "source": [
    "# https://www.linkedin.com/in/thevedprakash/\n",
    "# thevedprakash.in@gmail.com\n",
    "# vedprakash@topmentor.live\n",
    "# subject: batch-77 + <your name> : "
   ]
  },
  {
   "cell_type": "markdown",
   "id": "bf6e769f",
   "metadata": {},
   "source": [
    "## Load the library"
   ]
  },
  {
   "cell_type": "code",
   "execution_count": 1,
   "id": "da7e37af",
   "metadata": {},
   "outputs": [],
   "source": [
    "import pandas as pd\n",
    "import numpy as np\n",
    "import seaborn as sns\n",
    "import matplotlib.pyplot as plt\n",
    "\n"
   ]
  },
  {
   "cell_type": "markdown",
   "id": "90db4816",
   "metadata": {},
   "source": [
    "## Read the data"
   ]
  },
  {
   "cell_type": "code",
   "execution_count": null,
   "id": "90c86d0a",
   "metadata": {},
   "outputs": [],
   "source": [
    "## Load the data from your file or data source."
   ]
  },
  {
   "cell_type": "code",
   "execution_count": 5,
   "id": "9ab9e8eb",
   "metadata": {},
   "outputs": [],
   "source": [
    "df = pd.read_csv(\"bike_share_data/bike_sharing_daily.csv\",na_values=['N/A', 'NIL'])"
   ]
  },
  {
   "cell_type": "markdown",
   "id": "d1e38004",
   "metadata": {},
   "source": [
    "- instant: record index\n",
    "- dteday : date\n",
    "- season : season (1:springer, 2:summer, 3:fall, 4:winter)\n",
    "- yr : year (0: 2011, 1:2012)\n",
    "- mnth : month ( 1 to 12)\n",
    "- hr : hour (0 to 23)\n",
    "- holiday : weather day is holiday or not (extracted from http://dchr.dc.gov/page/holiday-schedule)\n",
    "- weekday : day of the week 0-monday , 1-tuesday, 2-wednesday, 3-thursday, 4-friday, 5-Saturday ,6-Sunday \n",
    "- workingday : if day is neither weekend nor holiday is 1, otherwise is 0.\n",
    "+ weathersit : \n",
    "    - 1: Clear, Few clouds, Partly cloudy, Partly cloudy\n",
    "    - 2: Mist + Cloudy, Mist + Broken clouds, Mist + Few clouds, Mist\n",
    "    - 3: Light Snow, Light Rain + Thunderstorm + Scattered clouds, Light Rain + Scattered clouds\n",
    "    - 4: Heavy Rain + Ice Pallets + Thunderstorm + Mist, Snow + Fog\n",
    "- temp : Normalized temperature in Celsius. The values are divided to 41 (max)\n",
    "- atemp: Normalized feeling temperature in Celsius. The values are divided to 50 (max)\n",
    "- hum: Normalized humidity. The values are divided to 100 (max)\n",
    "- windspeed: Normalized wind speed. The values are divided to 67 (max)\n",
    "- casual: count of casual users\n",
    "- registered: count of registered users\n",
    "- cnt: count of total rental bikes including both casual and registered"
   ]
  },
  {
   "cell_type": "code",
   "execution_count": null,
   "id": "e18b8fa8",
   "metadata": {},
   "outputs": [],
   "source": [
    "## Show first 5 rows"
   ]
  },
  {
   "cell_type": "code",
   "execution_count": 3,
   "id": "2191d5ba",
   "metadata": {},
   "outputs": [
    {
     "data": {
      "text/html": [
       "<div>\n",
       "<style scoped>\n",
       "    .dataframe tbody tr th:only-of-type {\n",
       "        vertical-align: middle;\n",
       "    }\n",
       "\n",
       "    .dataframe tbody tr th {\n",
       "        vertical-align: top;\n",
       "    }\n",
       "\n",
       "    .dataframe thead th {\n",
       "        text-align: right;\n",
       "    }\n",
       "</style>\n",
       "<table border=\"1\" class=\"dataframe\">\n",
       "  <thead>\n",
       "    <tr style=\"text-align: right;\">\n",
       "      <th></th>\n",
       "      <th>instant</th>\n",
       "      <th>dteday</th>\n",
       "      <th>season</th>\n",
       "      <th>yr</th>\n",
       "      <th>mnth</th>\n",
       "      <th>holiday</th>\n",
       "      <th>weekday</th>\n",
       "      <th>workingday</th>\n",
       "      <th>weathersit</th>\n",
       "      <th>temp</th>\n",
       "      <th>atemp</th>\n",
       "      <th>hum</th>\n",
       "      <th>windspeed</th>\n",
       "      <th>casual</th>\n",
       "      <th>registered</th>\n",
       "      <th>cnt</th>\n",
       "    </tr>\n",
       "  </thead>\n",
       "  <tbody>\n",
       "    <tr>\n",
       "      <th>0</th>\n",
       "      <td>1</td>\n",
       "      <td>2011-01-01</td>\n",
       "      <td>1</td>\n",
       "      <td>0</td>\n",
       "      <td>1</td>\n",
       "      <td>0</td>\n",
       "      <td>6</td>\n",
       "      <td>0</td>\n",
       "      <td>2</td>\n",
       "      <td>0.344167</td>\n",
       "      <td>0.363625</td>\n",
       "      <td>0.805833</td>\n",
       "      <td>0.160446</td>\n",
       "      <td>331</td>\n",
       "      <td>654</td>\n",
       "      <td>985</td>\n",
       "    </tr>\n",
       "    <tr>\n",
       "      <th>1</th>\n",
       "      <td>2</td>\n",
       "      <td>2011-01-02</td>\n",
       "      <td>1</td>\n",
       "      <td>0</td>\n",
       "      <td>1</td>\n",
       "      <td>0</td>\n",
       "      <td>0</td>\n",
       "      <td>0</td>\n",
       "      <td>2</td>\n",
       "      <td>0.363478</td>\n",
       "      <td>0.353739</td>\n",
       "      <td>0.696087</td>\n",
       "      <td>0.248539</td>\n",
       "      <td>131</td>\n",
       "      <td>670</td>\n",
       "      <td>801</td>\n",
       "    </tr>\n",
       "    <tr>\n",
       "      <th>2</th>\n",
       "      <td>3</td>\n",
       "      <td>2011-01-03</td>\n",
       "      <td>1</td>\n",
       "      <td>0</td>\n",
       "      <td>1</td>\n",
       "      <td>0</td>\n",
       "      <td>1</td>\n",
       "      <td>1</td>\n",
       "      <td>1</td>\n",
       "      <td>0.196364</td>\n",
       "      <td>0.189405</td>\n",
       "      <td>0.437273</td>\n",
       "      <td>0.248309</td>\n",
       "      <td>120</td>\n",
       "      <td>1229</td>\n",
       "      <td>1349</td>\n",
       "    </tr>\n",
       "    <tr>\n",
       "      <th>3</th>\n",
       "      <td>4</td>\n",
       "      <td>2011-01-04</td>\n",
       "      <td>1</td>\n",
       "      <td>0</td>\n",
       "      <td>1</td>\n",
       "      <td>0</td>\n",
       "      <td>2</td>\n",
       "      <td>1</td>\n",
       "      <td>1</td>\n",
       "      <td>0.200000</td>\n",
       "      <td>0.212122</td>\n",
       "      <td>0.590435</td>\n",
       "      <td>0.160296</td>\n",
       "      <td>108</td>\n",
       "      <td>1454</td>\n",
       "      <td>1562</td>\n",
       "    </tr>\n",
       "    <tr>\n",
       "      <th>4</th>\n",
       "      <td>5</td>\n",
       "      <td>2011-01-05</td>\n",
       "      <td>1</td>\n",
       "      <td>0</td>\n",
       "      <td>1</td>\n",
       "      <td>0</td>\n",
       "      <td>3</td>\n",
       "      <td>1</td>\n",
       "      <td>1</td>\n",
       "      <td>0.226957</td>\n",
       "      <td>0.229270</td>\n",
       "      <td>0.436957</td>\n",
       "      <td>0.186900</td>\n",
       "      <td>82</td>\n",
       "      <td>1518</td>\n",
       "      <td>1600</td>\n",
       "    </tr>\n",
       "  </tbody>\n",
       "</table>\n",
       "</div>"
      ],
      "text/plain": [
       "   instant      dteday  season  yr  mnth  holiday  weekday  workingday   \n",
       "0        1  2011-01-01       1   0     1        0        6           0  \\\n",
       "1        2  2011-01-02       1   0     1        0        0           0   \n",
       "2        3  2011-01-03       1   0     1        0        1           1   \n",
       "3        4  2011-01-04       1   0     1        0        2           1   \n",
       "4        5  2011-01-05       1   0     1        0        3           1   \n",
       "\n",
       "   weathersit      temp     atemp       hum  windspeed  casual  registered   \n",
       "0           2  0.344167  0.363625  0.805833   0.160446     331         654  \\\n",
       "1           2  0.363478  0.353739  0.696087   0.248539     131         670   \n",
       "2           1  0.196364  0.189405  0.437273   0.248309     120        1229   \n",
       "3           1  0.200000  0.212122  0.590435   0.160296     108        1454   \n",
       "4           1  0.226957  0.229270  0.436957   0.186900      82        1518   \n",
       "\n",
       "    cnt  \n",
       "0   985  \n",
       "1   801  \n",
       "2  1349  \n",
       "3  1562  \n",
       "4  1600  "
      ]
     },
     "execution_count": 3,
     "metadata": {},
     "output_type": "execute_result"
    }
   ],
   "source": [
    "df.head()"
   ]
  },
  {
   "cell_type": "code",
   "execution_count": null,
   "id": "f9296194",
   "metadata": {},
   "outputs": [],
   "source": [
    "## Show last 5 rows"
   ]
  },
  {
   "cell_type": "code",
   "execution_count": 6,
   "id": "61fa1096",
   "metadata": {},
   "outputs": [
    {
     "data": {
      "text/html": [
       "<div>\n",
       "<style scoped>\n",
       "    .dataframe tbody tr th:only-of-type {\n",
       "        vertical-align: middle;\n",
       "    }\n",
       "\n",
       "    .dataframe tbody tr th {\n",
       "        vertical-align: top;\n",
       "    }\n",
       "\n",
       "    .dataframe thead th {\n",
       "        text-align: right;\n",
       "    }\n",
       "</style>\n",
       "<table border=\"1\" class=\"dataframe\">\n",
       "  <thead>\n",
       "    <tr style=\"text-align: right;\">\n",
       "      <th></th>\n",
       "      <th>instant</th>\n",
       "      <th>dteday</th>\n",
       "      <th>season</th>\n",
       "      <th>yr</th>\n",
       "      <th>mnth</th>\n",
       "      <th>holiday</th>\n",
       "      <th>weekday</th>\n",
       "      <th>workingday</th>\n",
       "      <th>weathersit</th>\n",
       "      <th>temp</th>\n",
       "      <th>atemp</th>\n",
       "      <th>hum</th>\n",
       "      <th>windspeed</th>\n",
       "      <th>casual</th>\n",
       "      <th>registered</th>\n",
       "      <th>cnt</th>\n",
       "    </tr>\n",
       "  </thead>\n",
       "  <tbody>\n",
       "    <tr>\n",
       "      <th>726</th>\n",
       "      <td>727</td>\n",
       "      <td>2012-12-27</td>\n",
       "      <td>1</td>\n",
       "      <td>1</td>\n",
       "      <td>12</td>\n",
       "      <td>0</td>\n",
       "      <td>4</td>\n",
       "      <td>1</td>\n",
       "      <td>2</td>\n",
       "      <td>0.254167</td>\n",
       "      <td>0.226642</td>\n",
       "      <td>0.652917</td>\n",
       "      <td>0.350133</td>\n",
       "      <td>247</td>\n",
       "      <td>1867</td>\n",
       "      <td>2114</td>\n",
       "    </tr>\n",
       "    <tr>\n",
       "      <th>727</th>\n",
       "      <td>728</td>\n",
       "      <td>2012-12-28</td>\n",
       "      <td>1</td>\n",
       "      <td>1</td>\n",
       "      <td>12</td>\n",
       "      <td>0</td>\n",
       "      <td>5</td>\n",
       "      <td>1</td>\n",
       "      <td>2</td>\n",
       "      <td>0.253333</td>\n",
       "      <td>0.255046</td>\n",
       "      <td>0.590000</td>\n",
       "      <td>0.155471</td>\n",
       "      <td>644</td>\n",
       "      <td>2451</td>\n",
       "      <td>3095</td>\n",
       "    </tr>\n",
       "    <tr>\n",
       "      <th>728</th>\n",
       "      <td>729</td>\n",
       "      <td>2012-12-29</td>\n",
       "      <td>1</td>\n",
       "      <td>1</td>\n",
       "      <td>12</td>\n",
       "      <td>0</td>\n",
       "      <td>6</td>\n",
       "      <td>0</td>\n",
       "      <td>2</td>\n",
       "      <td>0.253333</td>\n",
       "      <td>0.242400</td>\n",
       "      <td>0.752917</td>\n",
       "      <td>0.124383</td>\n",
       "      <td>159</td>\n",
       "      <td>1182</td>\n",
       "      <td>1341</td>\n",
       "    </tr>\n",
       "    <tr>\n",
       "      <th>729</th>\n",
       "      <td>730</td>\n",
       "      <td>2012-12-30</td>\n",
       "      <td>1</td>\n",
       "      <td>1</td>\n",
       "      <td>12</td>\n",
       "      <td>0</td>\n",
       "      <td>0</td>\n",
       "      <td>0</td>\n",
       "      <td>1</td>\n",
       "      <td>0.255833</td>\n",
       "      <td>0.231700</td>\n",
       "      <td>0.483333</td>\n",
       "      <td>0.350754</td>\n",
       "      <td>364</td>\n",
       "      <td>1432</td>\n",
       "      <td>1796</td>\n",
       "    </tr>\n",
       "    <tr>\n",
       "      <th>730</th>\n",
       "      <td>731</td>\n",
       "      <td>2012-12-31</td>\n",
       "      <td>1</td>\n",
       "      <td>1</td>\n",
       "      <td>12</td>\n",
       "      <td>0</td>\n",
       "      <td>1</td>\n",
       "      <td>1</td>\n",
       "      <td>2</td>\n",
       "      <td>0.215833</td>\n",
       "      <td>0.223487</td>\n",
       "      <td>0.577500</td>\n",
       "      <td>0.154846</td>\n",
       "      <td>439</td>\n",
       "      <td>2290</td>\n",
       "      <td>2729</td>\n",
       "    </tr>\n",
       "  </tbody>\n",
       "</table>\n",
       "</div>"
      ],
      "text/plain": [
       "     instant      dteday  season  yr  mnth  holiday  weekday  workingday   \n",
       "726      727  2012-12-27       1   1    12        0        4           1  \\\n",
       "727      728  2012-12-28       1   1    12        0        5           1   \n",
       "728      729  2012-12-29       1   1    12        0        6           0   \n",
       "729      730  2012-12-30       1   1    12        0        0           0   \n",
       "730      731  2012-12-31       1   1    12        0        1           1   \n",
       "\n",
       "     weathersit      temp     atemp       hum  windspeed  casual  registered   \n",
       "726           2  0.254167  0.226642  0.652917   0.350133     247        1867  \\\n",
       "727           2  0.253333  0.255046  0.590000   0.155471     644        2451   \n",
       "728           2  0.253333  0.242400  0.752917   0.124383     159        1182   \n",
       "729           1  0.255833  0.231700  0.483333   0.350754     364        1432   \n",
       "730           2  0.215833  0.223487  0.577500   0.154846     439        2290   \n",
       "\n",
       "      cnt  \n",
       "726  2114  \n",
       "727  3095  \n",
       "728  1341  \n",
       "729  1796  \n",
       "730  2729  "
      ]
     },
     "execution_count": 6,
     "metadata": {},
     "output_type": "execute_result"
    }
   ],
   "source": [
    "df.tail()"
   ]
  },
  {
   "cell_type": "code",
   "execution_count": null,
   "id": "e7e88a5a",
   "metadata": {},
   "outputs": [],
   "source": [
    "## Show the info for data"
   ]
  },
  {
   "cell_type": "code",
   "execution_count": 7,
   "id": "a8eac9f3",
   "metadata": {},
   "outputs": [
    {
     "name": "stdout",
     "output_type": "stream",
     "text": [
      "<class 'pandas.core.frame.DataFrame'>\n",
      "RangeIndex: 731 entries, 0 to 730\n",
      "Data columns (total 16 columns):\n",
      " #   Column      Non-Null Count  Dtype  \n",
      "---  ------      --------------  -----  \n",
      " 0   instant     731 non-null    int64  \n",
      " 1   dteday      731 non-null    object \n",
      " 2   season      731 non-null    int64  \n",
      " 3   yr          731 non-null    int64  \n",
      " 4   mnth        731 non-null    int64  \n",
      " 5   holiday     731 non-null    int64  \n",
      " 6   weekday     731 non-null    int64  \n",
      " 7   workingday  731 non-null    int64  \n",
      " 8   weathersit  731 non-null    int64  \n",
      " 9   temp        731 non-null    float64\n",
      " 10  atemp       731 non-null    float64\n",
      " 11  hum         731 non-null    float64\n",
      " 12  windspeed   731 non-null    float64\n",
      " 13  casual      731 non-null    int64  \n",
      " 14  registered  731 non-null    int64  \n",
      " 15  cnt         731 non-null    int64  \n",
      "dtypes: float64(4), int64(11), object(1)\n",
      "memory usage: 91.5+ KB\n"
     ]
    }
   ],
   "source": [
    "df.info()"
   ]
  },
  {
   "cell_type": "code",
   "execution_count": null,
   "id": "8847611e",
   "metadata": {},
   "outputs": [],
   "source": [
    "## Check shape of data"
   ]
  },
  {
   "cell_type": "code",
   "execution_count": 14,
   "id": "bf1ac050",
   "metadata": {},
   "outputs": [
    {
     "data": {
      "text/plain": [
       "((731, 16), 731)"
      ]
     },
     "execution_count": 14,
     "metadata": {},
     "output_type": "execute_result"
    }
   ],
   "source": [
    "df.shape , len(df)"
   ]
  },
  {
   "cell_type": "code",
   "execution_count": null,
   "id": "3120fd14",
   "metadata": {},
   "outputs": [],
   "source": [
    "## Show the columns"
   ]
  },
  {
   "cell_type": "code",
   "execution_count": 12,
   "id": "ea427453",
   "metadata": {},
   "outputs": [
    {
     "data": {
      "text/plain": [
       "Index(['instant', 'dteday', 'season', 'yr', 'mnth', 'holiday', 'weekday',\n",
       "       'workingday', 'weathersit', 'temp', 'atemp', 'hum', 'windspeed',\n",
       "       'casual', 'registered', 'cnt'],\n",
       "      dtype='object')"
      ]
     },
     "execution_count": 12,
     "metadata": {},
     "output_type": "execute_result"
    }
   ],
   "source": [
    "df.columns"
   ]
  },
  {
   "cell_type": "code",
   "execution_count": 10,
   "id": "59068def",
   "metadata": {
    "collapsed": true
   },
   "outputs": [
    {
     "data": {
      "text/plain": [
       "['instant',\n",
       " 'dteday',\n",
       " 'season',\n",
       " 'yr',\n",
       " 'mnth',\n",
       " 'holiday',\n",
       " 'weekday',\n",
       " 'workingday',\n",
       " 'weathersit',\n",
       " 'temp',\n",
       " 'atemp',\n",
       " 'hum',\n",
       " 'windspeed',\n",
       " 'casual',\n",
       " 'registered',\n",
       " 'cnt']"
      ]
     },
     "execution_count": 10,
     "metadata": {},
     "output_type": "execute_result"
    }
   ],
   "source": [
    "column_list = list(df.columns)\n",
    "column_list"
   ]
  },
  {
   "cell_type": "code",
   "execution_count": null,
   "id": "9fb17e9a",
   "metadata": {},
   "outputs": [],
   "source": [
    "## Show the description summary for numerical and categorical values."
   ]
  },
  {
   "cell_type": "code",
   "execution_count": 15,
   "id": "8baaa5a6",
   "metadata": {},
   "outputs": [
    {
     "data": {
      "text/html": [
       "<div>\n",
       "<style scoped>\n",
       "    .dataframe tbody tr th:only-of-type {\n",
       "        vertical-align: middle;\n",
       "    }\n",
       "\n",
       "    .dataframe tbody tr th {\n",
       "        vertical-align: top;\n",
       "    }\n",
       "\n",
       "    .dataframe thead th {\n",
       "        text-align: right;\n",
       "    }\n",
       "</style>\n",
       "<table border=\"1\" class=\"dataframe\">\n",
       "  <thead>\n",
       "    <tr style=\"text-align: right;\">\n",
       "      <th></th>\n",
       "      <th>instant</th>\n",
       "      <th>season</th>\n",
       "      <th>yr</th>\n",
       "      <th>mnth</th>\n",
       "      <th>holiday</th>\n",
       "      <th>weekday</th>\n",
       "      <th>workingday</th>\n",
       "      <th>weathersit</th>\n",
       "      <th>temp</th>\n",
       "      <th>atemp</th>\n",
       "      <th>hum</th>\n",
       "      <th>windspeed</th>\n",
       "      <th>casual</th>\n",
       "      <th>registered</th>\n",
       "      <th>cnt</th>\n",
       "    </tr>\n",
       "  </thead>\n",
       "  <tbody>\n",
       "    <tr>\n",
       "      <th>count</th>\n",
       "      <td>731.000000</td>\n",
       "      <td>731.000000</td>\n",
       "      <td>731.000000</td>\n",
       "      <td>731.000000</td>\n",
       "      <td>731.000000</td>\n",
       "      <td>731.000000</td>\n",
       "      <td>731.000000</td>\n",
       "      <td>731.000000</td>\n",
       "      <td>731.000000</td>\n",
       "      <td>731.000000</td>\n",
       "      <td>731.000000</td>\n",
       "      <td>731.000000</td>\n",
       "      <td>731.000000</td>\n",
       "      <td>731.000000</td>\n",
       "      <td>731.000000</td>\n",
       "    </tr>\n",
       "    <tr>\n",
       "      <th>mean</th>\n",
       "      <td>366.000000</td>\n",
       "      <td>2.496580</td>\n",
       "      <td>0.500684</td>\n",
       "      <td>6.519836</td>\n",
       "      <td>0.028728</td>\n",
       "      <td>2.997264</td>\n",
       "      <td>0.683995</td>\n",
       "      <td>1.395349</td>\n",
       "      <td>0.495385</td>\n",
       "      <td>0.474354</td>\n",
       "      <td>0.627894</td>\n",
       "      <td>0.190486</td>\n",
       "      <td>848.176471</td>\n",
       "      <td>3656.172367</td>\n",
       "      <td>4504.348837</td>\n",
       "    </tr>\n",
       "    <tr>\n",
       "      <th>std</th>\n",
       "      <td>211.165812</td>\n",
       "      <td>1.110807</td>\n",
       "      <td>0.500342</td>\n",
       "      <td>3.451913</td>\n",
       "      <td>0.167155</td>\n",
       "      <td>2.004787</td>\n",
       "      <td>0.465233</td>\n",
       "      <td>0.544894</td>\n",
       "      <td>0.183051</td>\n",
       "      <td>0.162961</td>\n",
       "      <td>0.142429</td>\n",
       "      <td>0.077498</td>\n",
       "      <td>686.622488</td>\n",
       "      <td>1560.256377</td>\n",
       "      <td>1937.211452</td>\n",
       "    </tr>\n",
       "    <tr>\n",
       "      <th>min</th>\n",
       "      <td>1.000000</td>\n",
       "      <td>1.000000</td>\n",
       "      <td>0.000000</td>\n",
       "      <td>1.000000</td>\n",
       "      <td>0.000000</td>\n",
       "      <td>0.000000</td>\n",
       "      <td>0.000000</td>\n",
       "      <td>1.000000</td>\n",
       "      <td>0.059130</td>\n",
       "      <td>0.079070</td>\n",
       "      <td>0.000000</td>\n",
       "      <td>0.022392</td>\n",
       "      <td>2.000000</td>\n",
       "      <td>20.000000</td>\n",
       "      <td>22.000000</td>\n",
       "    </tr>\n",
       "    <tr>\n",
       "      <th>25%</th>\n",
       "      <td>183.500000</td>\n",
       "      <td>2.000000</td>\n",
       "      <td>0.000000</td>\n",
       "      <td>4.000000</td>\n",
       "      <td>0.000000</td>\n",
       "      <td>1.000000</td>\n",
       "      <td>0.000000</td>\n",
       "      <td>1.000000</td>\n",
       "      <td>0.337083</td>\n",
       "      <td>0.337842</td>\n",
       "      <td>0.520000</td>\n",
       "      <td>0.134950</td>\n",
       "      <td>315.500000</td>\n",
       "      <td>2497.000000</td>\n",
       "      <td>3152.000000</td>\n",
       "    </tr>\n",
       "    <tr>\n",
       "      <th>50%</th>\n",
       "      <td>366.000000</td>\n",
       "      <td>3.000000</td>\n",
       "      <td>1.000000</td>\n",
       "      <td>7.000000</td>\n",
       "      <td>0.000000</td>\n",
       "      <td>3.000000</td>\n",
       "      <td>1.000000</td>\n",
       "      <td>1.000000</td>\n",
       "      <td>0.498333</td>\n",
       "      <td>0.486733</td>\n",
       "      <td>0.626667</td>\n",
       "      <td>0.180975</td>\n",
       "      <td>713.000000</td>\n",
       "      <td>3662.000000</td>\n",
       "      <td>4548.000000</td>\n",
       "    </tr>\n",
       "    <tr>\n",
       "      <th>75%</th>\n",
       "      <td>548.500000</td>\n",
       "      <td>3.000000</td>\n",
       "      <td>1.000000</td>\n",
       "      <td>10.000000</td>\n",
       "      <td>0.000000</td>\n",
       "      <td>5.000000</td>\n",
       "      <td>1.000000</td>\n",
       "      <td>2.000000</td>\n",
       "      <td>0.655417</td>\n",
       "      <td>0.608602</td>\n",
       "      <td>0.730209</td>\n",
       "      <td>0.233214</td>\n",
       "      <td>1096.000000</td>\n",
       "      <td>4776.500000</td>\n",
       "      <td>5956.000000</td>\n",
       "    </tr>\n",
       "    <tr>\n",
       "      <th>max</th>\n",
       "      <td>731.000000</td>\n",
       "      <td>4.000000</td>\n",
       "      <td>1.000000</td>\n",
       "      <td>12.000000</td>\n",
       "      <td>1.000000</td>\n",
       "      <td>6.000000</td>\n",
       "      <td>1.000000</td>\n",
       "      <td>3.000000</td>\n",
       "      <td>0.861667</td>\n",
       "      <td>0.840896</td>\n",
       "      <td>0.972500</td>\n",
       "      <td>0.507463</td>\n",
       "      <td>3410.000000</td>\n",
       "      <td>6946.000000</td>\n",
       "      <td>8714.000000</td>\n",
       "    </tr>\n",
       "  </tbody>\n",
       "</table>\n",
       "</div>"
      ],
      "text/plain": [
       "          instant      season          yr        mnth     holiday     weekday   \n",
       "count  731.000000  731.000000  731.000000  731.000000  731.000000  731.000000  \\\n",
       "mean   366.000000    2.496580    0.500684    6.519836    0.028728    2.997264   \n",
       "std    211.165812    1.110807    0.500342    3.451913    0.167155    2.004787   \n",
       "min      1.000000    1.000000    0.000000    1.000000    0.000000    0.000000   \n",
       "25%    183.500000    2.000000    0.000000    4.000000    0.000000    1.000000   \n",
       "50%    366.000000    3.000000    1.000000    7.000000    0.000000    3.000000   \n",
       "75%    548.500000    3.000000    1.000000   10.000000    0.000000    5.000000   \n",
       "max    731.000000    4.000000    1.000000   12.000000    1.000000    6.000000   \n",
       "\n",
       "       workingday  weathersit        temp       atemp         hum   windspeed   \n",
       "count  731.000000  731.000000  731.000000  731.000000  731.000000  731.000000  \\\n",
       "mean     0.683995    1.395349    0.495385    0.474354    0.627894    0.190486   \n",
       "std      0.465233    0.544894    0.183051    0.162961    0.142429    0.077498   \n",
       "min      0.000000    1.000000    0.059130    0.079070    0.000000    0.022392   \n",
       "25%      0.000000    1.000000    0.337083    0.337842    0.520000    0.134950   \n",
       "50%      1.000000    1.000000    0.498333    0.486733    0.626667    0.180975   \n",
       "75%      1.000000    2.000000    0.655417    0.608602    0.730209    0.233214   \n",
       "max      1.000000    3.000000    0.861667    0.840896    0.972500    0.507463   \n",
       "\n",
       "            casual   registered          cnt  \n",
       "count   731.000000   731.000000   731.000000  \n",
       "mean    848.176471  3656.172367  4504.348837  \n",
       "std     686.622488  1560.256377  1937.211452  \n",
       "min       2.000000    20.000000    22.000000  \n",
       "25%     315.500000  2497.000000  3152.000000  \n",
       "50%     713.000000  3662.000000  4548.000000  \n",
       "75%    1096.000000  4776.500000  5956.000000  \n",
       "max    3410.000000  6946.000000  8714.000000  "
      ]
     },
     "execution_count": 15,
     "metadata": {},
     "output_type": "execute_result"
    }
   ],
   "source": [
    "df.describe()"
   ]
  },
  {
   "cell_type": "code",
   "execution_count": 16,
   "id": "6dc40b05",
   "metadata": {},
   "outputs": [],
   "source": [
    "# psudeo numerical columns\n",
    "psudeo_numerical_columns = ['season','yr','mnth','holiday','weekday','workingday','weathersit']"
   ]
  },
  {
   "cell_type": "markdown",
   "id": "11e28550",
   "metadata": {},
   "source": [
    "# Exploratory Data Analysis"
   ]
  },
  {
   "cell_type": "code",
   "execution_count": 26,
   "id": "94ec6966",
   "metadata": {},
   "outputs": [],
   "source": [
    "df['actual_temp'] = df['temp'] *41"
   ]
  },
  {
   "cell_type": "markdown",
   "id": "7b74bd9c",
   "metadata": {},
   "source": [
    "## Do Numerical Analysis of Columns"
   ]
  },
  {
   "cell_type": "code",
   "execution_count": null,
   "id": "5c53927b",
   "metadata": {},
   "outputs": [],
   "source": [
    "#  Numerical column analysis \n",
    "\n",
    "#  Maximum and mimimum value mean, meadian or std deviation or variance\n",
    "\n",
    "#  You can learn about their distribution.\n",
    "# - Histogram.\n",
    "#  While a histogram is made up of bars that touch each other,it shows counts of values in each range.\n",
    "\n",
    "# - Distribution plot. \n",
    "#  While a density plot shows the proportion of values in each range, a density plot is a smooth curve \n",
    "# that shows the distribution of the data in a more continuous way\n",
    "\n",
    "# Asymmetry \n",
    "# Skewness is a statistical measure of the asymmetry of a probability distribution. \n",
    "# It characterizes the extent to which the distribution of a set of values deviates from a normal distribution.\n",
    "# If the skewness is between -0.5 & 0.5, the data are nearly symmetrical.\n",
    "# If the skewness is between -1 & -0.5 (negative skewed) or between 0.5 & 1(positive skewed), the data are slightly skewed.\n",
    "# If the skewness is lower than -1 (negative skewed) or greater than 1 (positive skewed), the data are extremely skewed.\n",
    "\n",
    "# Quantile Analysis\n",
    "# A quantile defines a particular part of a data set, \n",
    "# i.e. a quantile determines how many values in a distribution are above or below a certain limit.\n",
    "\n",
    "# Analysis of extreme value\n",
    "# - Box Plot\n",
    "# - Violin plot"
   ]
  },
  {
   "cell_type": "markdown",
   "id": "26b11fd3",
   "metadata": {},
   "source": [
    "### Analysis of temp column"
   ]
  },
  {
   "cell_type": "code",
   "execution_count": 27,
   "id": "3a4dbb8f",
   "metadata": {},
   "outputs": [
    {
     "data": {
      "text/plain": [
       "2.4243464"
      ]
     },
     "execution_count": 27,
     "metadata": {},
     "output_type": "execute_result"
    }
   ],
   "source": [
    "df[\"actual_temp\"].min()"
   ]
  },
  {
   "cell_type": "code",
   "execution_count": 28,
   "id": "2cd346fa",
   "metadata": {},
   "outputs": [
    {
     "data": {
      "text/plain": [
       "35.328347"
      ]
     },
     "execution_count": 28,
     "metadata": {},
     "output_type": "execute_result"
    }
   ],
   "source": [
    "df[\"actual_temp\"].max()"
   ]
  },
  {
   "cell_type": "code",
   "execution_count": 29,
   "id": "e3c1c35c",
   "metadata": {},
   "outputs": [
    {
     "data": {
      "text/plain": [
       "20.31077632886457"
      ]
     },
     "execution_count": 29,
     "metadata": {},
     "output_type": "execute_result"
    }
   ],
   "source": [
    "df[\"actual_temp\"].mean()"
   ]
  },
  {
   "cell_type": "code",
   "execution_count": 30,
   "id": "42f5b5cb",
   "metadata": {},
   "outputs": [
    {
     "data": {
      "text/plain": [
       "20.431653"
      ]
     },
     "execution_count": 30,
     "metadata": {},
     "output_type": "execute_result"
    }
   ],
   "source": [
    "df[\"actual_temp\"].median()"
   ]
  },
  {
   "cell_type": "code",
   "execution_count": 31,
   "id": "11746ddc",
   "metadata": {},
   "outputs": [
    {
     "data": {
      "text/plain": [
       "7.505090840571039"
      ]
     },
     "execution_count": 31,
     "metadata": {},
     "output_type": "execute_result"
    }
   ],
   "source": [
    "df[\"actual_temp\"].std()"
   ]
  },
  {
   "cell_type": "code",
   "execution_count": 32,
   "id": "4a876694",
   "metadata": {},
   "outputs": [
    {
     "data": {
      "text/plain": [
       "56.3263885252233"
      ]
     },
     "execution_count": 32,
     "metadata": {},
     "output_type": "execute_result"
    }
   ],
   "source": [
    "df[\"actual_temp\"].var()"
   ]
  },
  {
   "cell_type": "code",
   "execution_count": 33,
   "id": "2ec0bf80",
   "metadata": {},
   "outputs": [
    {
     "data": {
      "text/plain": [
       "-0.05452096476040728"
      ]
     },
     "execution_count": 33,
     "metadata": {},
     "output_type": "execute_result"
    }
   ],
   "source": [
    "df[\"actual_temp\"].skew()"
   ]
  },
  {
   "cell_type": "markdown",
   "id": "0d34c1c6",
   "metadata": {},
   "source": [
    "#### What is the range where most of the temperature values are lying?"
   ]
  },
  {
   "cell_type": "code",
   "execution_count": 34,
   "id": "0d224b70",
   "metadata": {},
   "outputs": [
    {
     "data": {
      "image/png": "[encoded data removed]",
      "text/plain": [
       "<Figure size 576x432 with 1 Axes>"
      ]
     },
     "metadata": {
      "needs_background": "light"
     },
     "output_type": "display_data"
    }
   ],
   "source": [
    "plt.figure(figsize=(8,6)) # (8,6) --(\"width\",\"height\")\n",
    "# Histogram plot\n",
    "sns.histplot(df[\"actual_temp\"]) # sns.histplot(df[\"Age\"],kde=True)\n",
    "\n",
    "plt.title(\"Histogram plot for actual_temp\",y=1.02)\n",
    "plt.xlabel(\"actual_temp\")\n",
    "plt.ylabel(\"Frequency\")\n",
    "plt.show()"
   ]
  },
  {
   "cell_type": "code",
   "execution_count": 36,
   "id": "b155d6f6",
   "metadata": {},
   "outputs": [
    {
     "data": {
      "text/plain": [
       "<Figure size 576x432 with 0 Axes>"
      ]
     },
     "metadata": {},
     "output_type": "display_data"
    },
    {
     "data": {
      "image/png": "[encoded data removed]",
      "text/plain": [
       "<Figure size 360x360 with 1 Axes>"
      ]
     },
     "metadata": {
      "needs_background": "light"
     },
     "output_type": "display_data"
    }
   ],
   "source": [
    "plt.figure(figsize=(8,6))\n",
    "# Distribution plot\n",
    "sns.displot(df[\"actual_temp\"],kind=\"kde\") # or sns.kdeplot(df[\"Age\"])\n",
    "# kde stands for kernel density estimation\n",
    "\n",
    "plt.title(\"Density plot for actual_temp\",y=1.02)\n",
    "plt.xlabel(\"actual_temp\")\n",
    "plt.ylabel(\"Probability\")\n",
    "plt.show()"
   ]
  },
  {
   "cell_type": "code",
   "execution_count": null,
   "id": "5c67ad27",
   "metadata": {},
   "outputs": [],
   "source": [
    "## mutimodal graph more than one peak."
   ]
  },
  {
   "cell_type": "markdown",
   "id": "bac05b10",
   "metadata": {},
   "source": [
    "#### Are there any extreme temperature points in data?"
   ]
  },
  {
   "cell_type": "code",
   "execution_count": 37,
   "id": "14d70741",
   "metadata": {},
   "outputs": [
    {
     "data": {
      "text/plain": [
       "(10.66, 13.8204235, 20.431653, 26.8720765, 29.998347)"
      ]
     },
     "execution_count": 37,
     "metadata": {},
     "output_type": "execute_result"
    }
   ],
   "source": [
    "df[\"actual_temp\"].quantile(0.10),df[\"actual_temp\"].quantile(0.25),df[\"actual_temp\"].quantile(0.50),df[\"actual_temp\"].quantile(0.75),df[\"actual_temp\"].quantile(0.90)"
   ]
  },
  {
   "cell_type": "code",
   "execution_count": 40,
   "id": "6cd98f07",
   "metadata": {},
   "outputs": [
    {
     "data": {
      "image/png": "[encoded data removed]",
      "text/plain": [
       "<Figure size 576x432 with 1 Axes>"
      ]
     },
     "metadata": {
      "needs_background": "light"
     },
     "output_type": "display_data"
    }
   ],
   "source": [
    "plt.figure(figsize=(8,6))\n",
    "# Box plot\n",
    "sns.boxplot(df[\"actual_temp\"],orient=\"h\",color='wheat') # orient=\"h\" for horizontal or orient=\"v\" for vertical\n",
    "\n",
    "plt.title(\"Box plot for actual_temp\",y=1.02)\n",
    "plt.xlabel(\"actual_temp\")\n",
    "# plt.ylabel(\"\")\n",
    "plt.show()"
   ]
  },
  {
   "cell_type": "code",
   "execution_count": 41,
   "id": "3b292c76",
   "metadata": {},
   "outputs": [
    {
     "data": {
      "image/png": "[encoded data removed]",
      "text/plain": [
       "<Figure size 576x432 with 1 Axes>"
      ]
     },
     "metadata": {
      "needs_background": "light"
     },
     "output_type": "display_data"
    }
   ],
   "source": [
    "plt.figure(figsize=(8,6))\n",
    "# Violin Plot\n",
    "sns.violinplot(df[\"actual_temp\"],orient=\"h\",color=\"tomato\") # refer color guide at bottom\n",
    "sns.swarmplot( df[\"actual_temp\"],size=3,orient=\"h\")\n",
    "\n",
    "plt.title(\"Violin plot for actual_temp\",y=1.02)\n",
    "plt.xlabel(\"actual_temp\")\n",
    "# plt.ylabel(\"\")\n",
    "plt.show()"
   ]
  },
  {
   "cell_type": "code",
   "execution_count": null,
   "id": "798a6661",
   "metadata": {},
   "outputs": [],
   "source": [
    "## Conclude and write down your observation."
   ]
  },
  {
   "cell_type": "markdown",
   "id": "07d28f03",
   "metadata": {},
   "source": [
    "**actual_temp** Column has a symmetrical distribution with skew -0.05 which is between -0.5 and 0.5 . \n",
    "- Density curve for actual_temp is multimodal and have two peaks.\n",
    "- Range of actual_temp value is from minimum 2 deegre celcsius and maximum 35 deegre celusius.\n",
    "- Most of the actual_temp are failling under two groups 10-18 and 25-30.\n",
    "\n",
    "- 10% of actual_temp are 10.66 deegre celcsius and below.\n",
    "- 25% of people are of age 13.82 deegre celcsius and below.\n",
    "- 50% of people are of age 20.43 deegre celcsius and below.\n",
    "- 75% of people are of age 26.87 deegre celcsius and below.\n",
    "- 90% of people are of age 29.99 deegre celcsius and below.\n",
    "- actual_temp column has no extreme values.\n",
    "\n",
    "actual_temp column could be a good predictor for bike count and it's relation with other columns should be explored further."
   ]
  },
  {
   "cell_type": "markdown",
   "id": "a3261c5e",
   "metadata": {},
   "source": [
    "## Do Categortical  Analysis of Columns"
   ]
  },
  {
   "cell_type": "code",
   "execution_count": null,
   "id": "f54b1a43",
   "metadata": {},
   "outputs": [],
   "source": [
    "#  Categorical column analysis \n",
    "#  You can learn about their count values and their percentage.\n",
    "# value_counts allows you to find the number of each category in the that column.\n",
    "#  Count plot.\n",
    "\n",
    "# find no. of unique values and what are those unique values.\n",
    "\n",
    "#  Word cloud to create most frequently occuring words."
   ]
  },
  {
   "cell_type": "code",
   "execution_count": null,
   "id": "1537c0d6",
   "metadata": {},
   "outputs": [],
   "source": []
  },
  {
   "cell_type": "code",
   "execution_count": null,
   "id": "e14a9113",
   "metadata": {},
   "outputs": [],
   "source": [
    "## Conclude and write down your observation."
   ]
  },
  {
   "cell_type": "code",
   "execution_count": null,
   "id": "c71c34fc",
   "metadata": {},
   "outputs": [],
   "source": []
  },
  {
   "cell_type": "code",
   "execution_count": null,
   "id": "73252ec0",
   "metadata": {},
   "outputs": [],
   "source": []
  },
  {
   "cell_type": "markdown",
   "id": "e45e5685",
   "metadata": {},
   "source": [
    "## Combine Numerical and categorical columns for analysis"
   ]
  },
  {
   "cell_type": "code",
   "execution_count": null,
   "id": "c76ba13a",
   "metadata": {},
   "outputs": [],
   "source": []
  },
  {
   "cell_type": "code",
   "execution_count": null,
   "id": "079e1eb5",
   "metadata": {},
   "outputs": [],
   "source": []
  },
  {
   "cell_type": "markdown",
   "id": "0fbfc767",
   "metadata": {},
   "source": [
    "## Add your own Questions"
   ]
  },
  {
   "cell_type": "code",
   "execution_count": null,
   "id": "5143c91c",
   "metadata": {},
   "outputs": [],
   "source": []
  },
  {
   "cell_type": "code",
   "execution_count": null,
   "id": "f51b9e6a",
   "metadata": {},
   "outputs": [],
   "source": []
  },
  {
   "cell_type": "markdown",
   "id": "dae9e364",
   "metadata": {},
   "source": [
    "# Data Cleaning"
   ]
  },
  {
   "cell_type": "markdown",
   "id": "e1bad048",
   "metadata": {},
   "source": [
    "## 1. Handling Duplicate data"
   ]
  },
  {
   "cell_type": "code",
   "execution_count": null,
   "id": "e03c0dfd",
   "metadata": {},
   "outputs": [],
   "source": [
    "## Check shape of original data"
   ]
  },
  {
   "cell_type": "code",
   "execution_count": null,
   "id": "6c16b243",
   "metadata": {},
   "outputs": [],
   "source": []
  },
  {
   "cell_type": "code",
   "execution_count": null,
   "id": "2034b53a",
   "metadata": {},
   "outputs": [],
   "source": [
    "## Check shape after applying drop duplicates."
   ]
  },
  {
   "cell_type": "code",
   "execution_count": null,
   "id": "2b2e9dfe",
   "metadata": {},
   "outputs": [],
   "source": []
  },
  {
   "cell_type": "code",
   "execution_count": null,
   "id": "7feb69f1",
   "metadata": {},
   "outputs": [],
   "source": [
    "## Drop duplicate values and reset your index columns."
   ]
  },
  {
   "cell_type": "code",
   "execution_count": null,
   "id": "15a1d68a",
   "metadata": {},
   "outputs": [],
   "source": []
  },
  {
   "cell_type": "markdown",
   "id": "cd77a540",
   "metadata": {},
   "source": [
    "## 2.  Handling Missing Values"
   ]
  },
  {
   "cell_type": "code",
   "execution_count": null,
   "id": "7f434cc9",
   "metadata": {},
   "outputs": [],
   "source": [
    "## Apply isnull() function and find the sum of missing values in all columns."
   ]
  },
  {
   "cell_type": "code",
   "execution_count": null,
   "id": "584f285c",
   "metadata": {},
   "outputs": [],
   "source": []
  },
  {
   "cell_type": "code",
   "execution_count": null,
   "id": "1bcd6ea6",
   "metadata": {},
   "outputs": [],
   "source": [
    "## Find missing value in % form."
   ]
  },
  {
   "cell_type": "code",
   "execution_count": null,
   "id": "455b376d",
   "metadata": {},
   "outputs": [],
   "source": []
  },
  {
   "cell_type": "code",
   "execution_count": null,
   "id": "4ce7f79a",
   "metadata": {},
   "outputs": [],
   "source": [
    "## Conclude your finding on missing values."
   ]
  },
  {
   "cell_type": "code",
   "execution_count": null,
   "id": "7cb8c2c1",
   "metadata": {},
   "outputs": [],
   "source": []
  },
  {
   "cell_type": "code",
   "execution_count": null,
   "id": "766a66ce",
   "metadata": {},
   "outputs": [],
   "source": [
    "## Drop the columns based on above analysis."
   ]
  },
  {
   "cell_type": "code",
   "execution_count": null,
   "id": "b5e63e10",
   "metadata": {},
   "outputs": [],
   "source": []
  },
  {
   "cell_type": "markdown",
   "id": "6d94e672",
   "metadata": {},
   "source": [
    "## 3. Handling Outliers "
   ]
  },
  {
   "cell_type": "code",
   "execution_count": null,
   "id": "0eadc61b",
   "metadata": {},
   "outputs": [],
   "source": [
    "## Apply below techniques on numerical columns.\n",
    "\n",
    "# Do box plot and violin plot to identify outliers.\n",
    "\n",
    "# Q1 --> 25%ile of data \n",
    "#     first line of the box plot\n",
    "# Q2 --> median or 50%ile of data\n",
    "#     second line or middle line of the box.\n",
    "# Q3 --> 75%ile of data   \n",
    "#     third line or the last of the box.\n",
    "\n",
    "# IQR --> Interquartile range.\n",
    "#      distance/value between Q1 or 25%ile and Q3 or 75%ile\n",
    "#     IQR = Q3-Q1\n",
    "    \n",
    "# minimum whisker --> Q1 - 1.5*IQR\n",
    "# maximum whisker --> Q3 + 1.5*IQR\n",
    "\n",
    "# Any value below mimimum whisker and above maximum whisker are termed as outlier."
   ]
  },
  {
   "cell_type": "code",
   "execution_count": null,
   "id": "b0540de3",
   "metadata": {},
   "outputs": [],
   "source": []
  },
  {
   "cell_type": "code",
   "execution_count": null,
   "id": "2d409be7",
   "metadata": {},
   "outputs": [],
   "source": []
  },
  {
   "cell_type": "code",
   "execution_count": null,
   "id": "d0e33b46",
   "metadata": {},
   "outputs": [],
   "source": [
    "## Based on your anlysis either drop extreme values or substitute them with more acceptable value."
   ]
  },
  {
   "cell_type": "code",
   "execution_count": null,
   "id": "6bba7b96",
   "metadata": {},
   "outputs": [],
   "source": []
  },
  {
   "cell_type": "markdown",
   "id": "039e71f2",
   "metadata": {},
   "source": [
    "## 4. Handling Categoirical Values"
   ]
  },
  {
   "cell_type": "code",
   "execution_count": null,
   "id": "8eb0ffdf",
   "metadata": {},
   "outputs": [],
   "source": []
  },
  {
   "cell_type": "code",
   "execution_count": null,
   "id": "43461397",
   "metadata": {},
   "outputs": [],
   "source": []
  },
  {
   "cell_type": "code",
   "execution_count": null,
   "id": "c2457bf5",
   "metadata": {},
   "outputs": [],
   "source": []
  },
  {
   "cell_type": "markdown",
   "id": "dbbb4c88",
   "metadata": {},
   "source": [
    "## 5 . Handling Numerical values"
   ]
  },
  {
   "cell_type": "code",
   "execution_count": null,
   "id": "9cee5b04",
   "metadata": {},
   "outputs": [],
   "source": []
  },
  {
   "cell_type": "code",
   "execution_count": null,
   "id": "22302aa3",
   "metadata": {},
   "outputs": [],
   "source": []
  },
  {
   "cell_type": "markdown",
   "id": "194caba3",
   "metadata": {},
   "source": [
    "# Model Building"
   ]
  },
  {
   "cell_type": "code",
   "execution_count": null,
   "id": "7b3895a5",
   "metadata": {},
   "outputs": [],
   "source": []
  },
  {
   "cell_type": "code",
   "execution_count": null,
   "id": "6385eaf9",
   "metadata": {},
   "outputs": [],
   "source": []
  },
  {
   "cell_type": "code",
   "execution_count": null,
   "id": "3029c5e4",
   "metadata": {},
   "outputs": [],
   "source": []
  }
 ],
 "metadata": {
  "kernelspec": {
   "display_name": "Python 3 (ipykernel)",
   "language": "python",
   "name": "python3"
  },
  "language_info": {
   "codemirror_mode": {
    "name": "ipython",
    "version": 3
   },
   "file_extension": ".py",
   "mimetype": "text/x-python",
   "name": "python",
   "nbconvert_exporter": "python",
   "pygments_lexer": "ipython3",
   "version": "3.9.7"
  }
 },
 "nbformat": 4,
 "nbformat_minor": 5
}
